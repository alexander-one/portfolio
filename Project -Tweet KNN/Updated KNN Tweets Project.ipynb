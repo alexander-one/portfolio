{
 "cells": [
  {
   "cell_type": "markdown",
   "id": "4fc7b649",
   "metadata": {},
   "source": []
  },
  {
   "cell_type": "code",
   "execution_count": 1,
   "id": "787ce7ba",
   "metadata": {},
   "outputs": [],
   "source": [
    "# dependencies\n",
    "import pandas as pd\n",
    "import numpy as np\n",
    "import nltk\n",
    "import random"
   ]
  },
  {
   "cell_type": "code",
   "execution_count": 2,
   "id": "feb1e3de",
   "metadata": {},
   "outputs": [],
   "source": [
    "# create the df\n",
    "url = 'https://raw.githubusercontent.com/alexander-one/portfolio/main/Project%20-Tweet%20KNN/assets/nytimeshealth.txt'\n",
    "tweets_df = pd.read_csv(url, on_bad_lines = 'skip')"
   ]
  }
 ],
 "metadata": {
  "kernelspec": {
   "display_name": "Python 3 (ipykernel)",
   "language": "python",
   "name": "python3"
  },
  "language_info": {
   "codemirror_mode": {
    "name": "ipython",
    "version": 3
   },
   "file_extension": ".py",
   "mimetype": "text/x-python",
   "name": "python",
   "nbconvert_exporter": "python",
   "pygments_lexer": "ipython3",
   "version": "3.9.7"
  }
 },
 "nbformat": 4,
 "nbformat_minor": 5
}
