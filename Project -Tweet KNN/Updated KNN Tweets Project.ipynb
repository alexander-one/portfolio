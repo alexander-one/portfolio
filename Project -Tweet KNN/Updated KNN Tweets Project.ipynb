{
 "cells": [
  {
   "cell_type": "code",
   "execution_count": 1,
   "id": "72050895",
   "metadata": {},
   "outputs": [],
   "source": [
    "# dependencies\n",
    "import pandas as pd\n",
    "import numpy as np\n",
    "import nltk \n",
    "import random"
   ]
  },
  {
   "cell_type": "code",
   "execution_count": 2,
   "id": "e17d9c3f",
   "metadata": {},
   "outputs": [],
   "source": [
    "# create the df\n",
    "url = 'https://raw.githubusercontent.com/alexander-one/portfolio/main/Project%20-Tweet%20KNN/assets/nytimeshealth.txt'\n",
    "tweets_df = pd.read_csv(url, on_bad_lines = 'skip')"
   ]
  },
  {
   "cell_type": "markdown",
   "id": "842903dc",
   "metadata": {},
   "source": [
    "Here we see a sample of the dataframe but as the tweet is store in its entirety on a single line, we barely get passed the date stamp. "
   ]
  },
  {
   "cell_type": "code",
   "execution_count": 3,
   "id": "0f5c6cd3",
   "metadata": {},
   "outputs": [
    {
     "data": {
      "text/html": [
       "<div>\n",
       "<style scoped>\n",
       "    .dataframe tbody tr th:only-of-type {\n",
       "        vertical-align: middle;\n",
       "    }\n",
       "\n",
       "    .dataframe tbody tr th {\n",
       "        vertical-align: top;\n",
       "    }\n",
       "\n",
       "    .dataframe thead th {\n",
       "        text-align: right;\n",
       "    }\n",
       "</style>\n",
       "<table border=\"1\" class=\"dataframe\">\n",
       "  <thead>\n",
       "    <tr style=\"text-align: right;\">\n",
       "      <th></th>\n",
       "      <th>tweets</th>\n",
       "    </tr>\n",
       "  </thead>\n",
       "  <tbody>\n",
       "    <tr>\n",
       "      <th>0</th>\n",
       "      <td>548662191340421120|Sat Dec 27 02:10:34 +0000 2...</td>\n",
       "    </tr>\n",
       "    <tr>\n",
       "      <th>1</th>\n",
       "      <td>548579831169163265|Fri Dec 26 20:43:18 +0000 2...</td>\n",
       "    </tr>\n",
       "    <tr>\n",
       "      <th>2</th>\n",
       "      <td>548579045269852161|Fri Dec 26 20:40:11 +0000 2...</td>\n",
       "    </tr>\n",
       "    <tr>\n",
       "      <th>3</th>\n",
       "      <td>548444679529041920|Fri Dec 26 11:46:15 +0000 2...</td>\n",
       "    </tr>\n",
       "    <tr>\n",
       "      <th>4</th>\n",
       "      <td>548311901227474944|Fri Dec 26 02:58:39 +0000 2...</td>\n",
       "    </tr>\n",
       "  </tbody>\n",
       "</table>\n",
       "</div>"
      ],
      "text/plain": [
       "                                              tweets\n",
       "0  548662191340421120|Sat Dec 27 02:10:34 +0000 2...\n",
       "1  548579831169163265|Fri Dec 26 20:43:18 +0000 2...\n",
       "2  548579045269852161|Fri Dec 26 20:40:11 +0000 2...\n",
       "3  548444679529041920|Fri Dec 26 11:46:15 +0000 2...\n",
       "4  548311901227474944|Fri Dec 26 02:58:39 +0000 2..."
      ]
     },
     "execution_count": 3,
     "metadata": {},
     "output_type": "execute_result"
    }
   ],
   "source": [
    "tweets_df.head()"
   ]
  },
  {
   "cell_type": "markdown",
   "id": "4e07e6f5",
   "metadata": {},
   "source": [
    "Setting the max column width display to none will show the tweets in their entirety. \n",
    "\n",
    "We want to determine the similarity between tweets, which means that the ID, Date, and URL are useless to us, so we need a way to remove them. On top of that, the RT, any tags with @, and punctuation will also not be helpful for us. "
   ]
  },
  {
   "cell_type": "code",
   "execution_count": 4,
   "id": "1142931b",
   "metadata": {},
   "outputs": [
    {
     "data": {
      "text/html": [
       "<div>\n",
       "<style scoped>\n",
       "    .dataframe tbody tr th:only-of-type {\n",
       "        vertical-align: middle;\n",
       "    }\n",
       "\n",
       "    .dataframe tbody tr th {\n",
       "        vertical-align: top;\n",
       "    }\n",
       "\n",
       "    .dataframe thead th {\n",
       "        text-align: right;\n",
       "    }\n",
       "</style>\n",
       "<table border=\"1\" class=\"dataframe\">\n",
       "  <thead>\n",
       "    <tr style=\"text-align: right;\">\n",
       "      <th></th>\n",
       "      <th>tweets</th>\n",
       "    </tr>\n",
       "  </thead>\n",
       "  <tbody>\n",
       "    <tr>\n",
       "      <th>0</th>\n",
       "      <td>548662191340421120|Sat Dec 27 02:10:34 +0000 2014|Risks in Using Social Media to Spot Signs of Mental Distress http://nyti.ms/1rqi9I1</td>\n",
       "    </tr>\n",
       "    <tr>\n",
       "      <th>1</th>\n",
       "      <td>548579831169163265|Fri Dec 26 20:43:18 +0000 2014|RT @paula_span: The most effective nationwide diabetes prevention program you've probably never heard of:  http://newoldage.blogs.nytimes.com/2014/12/26/diabetes-prevention-that-works/</td>\n",
       "    </tr>\n",
       "    <tr>\n",
       "      <th>2</th>\n",
       "      <td>548579045269852161|Fri Dec 26 20:40:11 +0000 2014|The New Old Age Blog: Diabetes Prevention That Works http://nyti.ms/1xm7fTi</td>\n",
       "    </tr>\n",
       "    <tr>\n",
       "      <th>3</th>\n",
       "      <td>548444679529041920|Fri Dec 26 11:46:15 +0000 2014|Well: Comfort Casseroles for Winter Dinners http://nyti.ms/1xTNoO0</td>\n",
       "    </tr>\n",
       "    <tr>\n",
       "      <th>4</th>\n",
       "      <td>548311901227474944|Fri Dec 26 02:58:39 +0000 2014|High-Level Knowledge Before Veterans Affairs Scandal http://nyti.ms/13yCpvS</td>\n",
       "    </tr>\n",
       "  </tbody>\n",
       "</table>\n",
       "</div>"
      ],
      "text/plain": [
       "                                                                                                                                                                                                                                       tweets\n",
       "0                                                                                                       548662191340421120|Sat Dec 27 02:10:34 +0000 2014|Risks in Using Social Media to Spot Signs of Mental Distress http://nyti.ms/1rqi9I1\n",
       "1  548579831169163265|Fri Dec 26 20:43:18 +0000 2014|RT @paula_span: The most effective nationwide diabetes prevention program you've probably never heard of:  http://newoldage.blogs.nytimes.com/2014/12/26/diabetes-prevention-that-works/\n",
       "2                                                                                                               548579045269852161|Fri Dec 26 20:40:11 +0000 2014|The New Old Age Blog: Diabetes Prevention That Works http://nyti.ms/1xm7fTi\n",
       "3                                                                                                                        548444679529041920|Fri Dec 26 11:46:15 +0000 2014|Well: Comfort Casseroles for Winter Dinners http://nyti.ms/1xTNoO0\n",
       "4                                                                                                               548311901227474944|Fri Dec 26 02:58:39 +0000 2014|High-Level Knowledge Before Veterans Affairs Scandal http://nyti.ms/13yCpvS"
      ]
     },
     "execution_count": 4,
     "metadata": {},
     "output_type": "execute_result"
    }
   ],
   "source": [
    "pd.set_option('display.max_colwidth', None)\n",
    "tweets_df.head()"
   ]
  },
  {
   "cell_type": "markdown",
   "id": "a3ea78ce",
   "metadata": {},
   "source": [
    "We'll now see a block of functions using the str.replace function of the pandas dataframe. Again, my goal with this project was to do a single action in each function, and this was my first area to stick to that goal. "
   ]
  },
  {
   "cell_type": "code",
   "execution_count": 5,
   "id": "118eb8cd",
   "metadata": {},
   "outputs": [],
   "source": [
    "    def remove_at():\n",
    "        df['tweets'] = df['tweets'].str.replace(r'@[a-zA-Z0-9_]*', '', regex = True)\n",
    "        return\n",
    "\n",
    "    def remove_retweet():\n",
    "        df['tweets'] = df['tweets'].str.replace(r'(RT)', '', regex = True)\n",
    "        return\n",
    "\n",
    "    def remove_timestamp():\n",
    "        df['tweets'] = df['tweets'].str.replace(r'\\|.*\\|', '', regex = True)\n",
    "        return\n",
    "\n",
    "    def remove_id():\n",
    "        df['tweets'] = df['tweets'].str.replace(r'[0-9]{18}', '', regex = True)\n",
    "        return\n",
    "\n",
    "    def remove_url():\n",
    "        df['tweets'] = df['tweets'].str.replace(r'http\\S+', '', regex = True)\n",
    "        return\n",
    "\n",
    "    def remove_punctuation():\n",
    "        df['tweets'] = df['tweets'].str.replace(r'[^\\w\\s]', '', regex = True)\n",
    "        return"
   ]
  },
  {
   "cell_type": "code",
   "execution_count": 6,
   "id": "8b1836c5",
   "metadata": {},
   "outputs": [],
   "source": [
    "#place original dataframe in copy as a precaution\n",
    "df = tweets_df\n",
    "\n",
    "#call the functions to remove data\n",
    "remove_at()\n",
    "remove_retweet()\n",
    "remove_timestamp()\n",
    "remove_id()\n",
    "remove_url()\n",
    "remove_punctuation()"
   ]
  },
  {
   "cell_type": "markdown",
   "id": "28fed846",
   "metadata": {},
   "source": [
    "Below we see individual tweets with only words from the headlines."
   ]
  },
  {
   "cell_type": "code",
   "execution_count": 7,
   "id": "918a53a9",
   "metadata": {},
   "outputs": [
    {
     "data": {
      "text/html": [
       "<div>\n",
       "<style scoped>\n",
       "    .dataframe tbody tr th:only-of-type {\n",
       "        vertical-align: middle;\n",
       "    }\n",
       "\n",
       "    .dataframe tbody tr th {\n",
       "        vertical-align: top;\n",
       "    }\n",
       "\n",
       "    .dataframe thead th {\n",
       "        text-align: right;\n",
       "    }\n",
       "</style>\n",
       "<table border=\"1\" class=\"dataframe\">\n",
       "  <thead>\n",
       "    <tr style=\"text-align: right;\">\n",
       "      <th></th>\n",
       "      <th>tweets</th>\n",
       "    </tr>\n",
       "  </thead>\n",
       "  <tbody>\n",
       "    <tr>\n",
       "      <th>0</th>\n",
       "      <td>Risks in Using Social Media to Spot Signs of Mental Distress</td>\n",
       "    </tr>\n",
       "    <tr>\n",
       "      <th>1</th>\n",
       "      <td>The most effective nationwide diabetes prevention program youve probably never heard of</td>\n",
       "    </tr>\n",
       "    <tr>\n",
       "      <th>2</th>\n",
       "      <td>The New Old Age Blog Diabetes Prevention That Works</td>\n",
       "    </tr>\n",
       "    <tr>\n",
       "      <th>3</th>\n",
       "      <td>Well Comfort Casseroles for Winter Dinners</td>\n",
       "    </tr>\n",
       "    <tr>\n",
       "      <th>4</th>\n",
       "      <td>HighLevel Knowledge Before Veterans Affairs Scandal</td>\n",
       "    </tr>\n",
       "  </tbody>\n",
       "</table>\n",
       "</div>"
      ],
      "text/plain": [
       "                                                                                        tweets\n",
       "0                                Risks in Using Social Media to Spot Signs of Mental Distress \n",
       "1    The most effective nationwide diabetes prevention program youve probably never heard of  \n",
       "2                                         The New Old Age Blog Diabetes Prevention That Works \n",
       "3                                                  Well Comfort Casseroles for Winter Dinners \n",
       "4                                         HighLevel Knowledge Before Veterans Affairs Scandal "
      ]
     },
     "execution_count": 7,
     "metadata": {},
     "output_type": "execute_result"
    }
   ],
   "source": [
    "df.head()"
   ]
  },
  {
   "cell_type": "markdown",
   "id": "fdfb43ca",
   "metadata": {},
   "source": [
    "The next step is to tokenize each of the tweets. This will create a list in each of the rows. "
   ]
  },
  {
   "cell_type": "code",
   "execution_count": 8,
   "id": "e08e3459",
   "metadata": {},
   "outputs": [],
   "source": [
    "    def tokenize():\n",
    "        df['tweets'] = df.apply(lambda row: nltk.word_tokenize(row['tweets']), axis=1)\n",
    "        return"
   ]
  },
  {
   "cell_type": "code",
   "execution_count": 9,
   "id": "fa876668",
   "metadata": {},
   "outputs": [],
   "source": [
    "tokenize()"
   ]
  },
  {
   "cell_type": "code",
   "execution_count": 10,
   "id": "68344acf",
   "metadata": {},
   "outputs": [
    {
     "data": {
      "text/html": [
       "<div>\n",
       "<style scoped>\n",
       "    .dataframe tbody tr th:only-of-type {\n",
       "        vertical-align: middle;\n",
       "    }\n",
       "\n",
       "    .dataframe tbody tr th {\n",
       "        vertical-align: top;\n",
       "    }\n",
       "\n",
       "    .dataframe thead th {\n",
       "        text-align: right;\n",
       "    }\n",
       "</style>\n",
       "<table border=\"1\" class=\"dataframe\">\n",
       "  <thead>\n",
       "    <tr style=\"text-align: right;\">\n",
       "      <th></th>\n",
       "      <th>tweets</th>\n",
       "    </tr>\n",
       "  </thead>\n",
       "  <tbody>\n",
       "    <tr>\n",
       "      <th>0</th>\n",
       "      <td>[Risks, in, Using, Social, Media, to, Spot, Signs, of, Mental, Distress]</td>\n",
       "    </tr>\n",
       "    <tr>\n",
       "      <th>1</th>\n",
       "      <td>[The, most, effective, nationwide, diabetes, prevention, program, youve, probably, never, heard, of]</td>\n",
       "    </tr>\n",
       "    <tr>\n",
       "      <th>2</th>\n",
       "      <td>[The, New, Old, Age, Blog, Diabetes, Prevention, That, Works]</td>\n",
       "    </tr>\n",
       "    <tr>\n",
       "      <th>3</th>\n",
       "      <td>[Well, Comfort, Casseroles, for, Winter, Dinners]</td>\n",
       "    </tr>\n",
       "    <tr>\n",
       "      <th>4</th>\n",
       "      <td>[HighLevel, Knowledge, Before, Veterans, Affairs, Scandal]</td>\n",
       "    </tr>\n",
       "  </tbody>\n",
       "</table>\n",
       "</div>"
      ],
      "text/plain": [
       "                                                                                                 tweets\n",
       "0                              [Risks, in, Using, Social, Media, to, Spot, Signs, of, Mental, Distress]\n",
       "1  [The, most, effective, nationwide, diabetes, prevention, program, youve, probably, never, heard, of]\n",
       "2                                         [The, New, Old, Age, Blog, Diabetes, Prevention, That, Works]\n",
       "3                                                     [Well, Comfort, Casseroles, for, Winter, Dinners]\n",
       "4                                            [HighLevel, Knowledge, Before, Veterans, Affairs, Scandal]"
      ]
     },
     "execution_count": 10,
     "metadata": {},
     "output_type": "execute_result"
    }
   ],
   "source": [
    "df.head()"
   ]
  },
  {
   "cell_type": "markdown",
   "id": "361fef24",
   "metadata": {},
   "source": [
    "Now that we have the data cleaned and ready to go, it's time for the Jaccard distance calculations. \n",
    "Jaccard Distance = 1 - number of shared words / number of unique words. This means that if the tweets are very similar they will have a value closer to 0, and if they are completely dissimilar they will have a value of 1. \n",
    "\n",
    "To manage this, we have two functions: the first will calculate the Jaccard distance, the second will fill a matrix with those values. "
   ]
  },
  {
   "cell_type": "code",
   "execution_count": 13,
   "id": "bedc6edd",
   "metadata": {},
   "outputs": [],
   "source": [
    "    def calc_jaccard_distance(A, B):\n",
    "        #sum the number of unique words\n",
    "        #1 - number of shared words/number of unique words\n",
    "\n",
    "        list_of_words = []\n",
    "        shared_words = 0\n",
    "        for word in A:\n",
    "            list_of_words.append(word)\n",
    "            for token in B:\n",
    "                list_of_words.append(token)\n",
    "                if word == token:\n",
    "                    shared_words += 1\n",
    "\n",
    "\n",
    "        unique_words = len(set(list_of_words))\n",
    "\n",
    "        if unique_words != 0:\n",
    "            jaccard_distance_value = 1-(shared_words/unique_words)\n",
    "        else: \n",
    "            return 1\n",
    "\n",
    "        return jaccard_distance_value\n",
    "\n",
    "    def fill_jaccard_matrix():\n",
    "\n",
    "        #for each row in the tweets column, fill the tweets_similarity matrix \n",
    "        #with Jaccard distance for each other row\n",
    "        tweet_similarity = np.ones((len(df), len(df)))\n",
    "        \n",
    "        for row in range(len(df['tweets'])):\n",
    "            for other_rows in range(row,len(df['tweets'])):\n",
    "                tweet_similarity[row][other_rows] = calc_jaccard_distance(df['tweets'][row], df['tweets'][other_rows])\n",
    "                tweet_similarity[other_rows][row] = tweet_similarity[row][other_rows]\n",
    "\n",
    "        return tweet_similarity\n",
    "    \n",
    "   "
   ]
  },
  {
   "cell_type": "code",
   "execution_count": 14,
   "id": "a4e9cb78",
   "metadata": {},
   "outputs": [],
   "source": [
    "tweet_similarity = fill_jaccard_matrix()"
   ]
  },
  {
   "cell_type": "code",
   "execution_count": 15,
   "id": "3aebecba",
   "metadata": {},
   "outputs": [
    {
     "name": "stdout",
     "output_type": "stream",
     "text": [
      "[[0.         0.95454545 1.         ... 1.         0.94117647 0.95238095]\n",
      " [0.95454545 0.         0.95       ... 1.         1.         0.95454545]\n",
      " [1.         0.95       0.         ... 1.         1.         0.94736842]\n",
      " ...\n",
      " [1.         1.         1.         ... 0.         1.         1.        ]\n",
      " [0.94117647 1.         1.         ... 1.         0.         1.        ]\n",
      " [0.95238095 0.95454545 0.94736842 ... 1.         1.         0.        ]]\n"
     ]
    }
   ],
   "source": [
    "print(tweet_similarity)"
   ]
  }
 ],
 "metadata": {
  "kernelspec": {
   "display_name": "Python 3 (ipykernel)",
   "language": "python",
   "name": "python3"
  },
  "language_info": {
   "codemirror_mode": {
    "name": "ipython",
    "version": 3
   },
   "file_extension": ".py",
   "mimetype": "text/x-python",
   "name": "python",
   "nbconvert_exporter": "python",
   "pygments_lexer": "ipython3",
   "version": "3.9.7"
  }
 },
 "nbformat": 4,
 "nbformat_minor": 5
}
